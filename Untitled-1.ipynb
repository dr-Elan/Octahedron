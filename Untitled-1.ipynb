{
 "cells": [
  {
   "cell_type": "code",
   "execution_count": 5,
   "metadata": {},
   "outputs": [],
   "source": [
    "import numpy as np"
   ]
  },
  {
   "cell_type": "code",
   "execution_count": 6,
   "metadata": {},
   "outputs": [
    {
     "name": "stdout",
     "output_type": "stream",
     "text": [
      "2\n"
     ]
    }
   ],
   "source": [
    "print(np.random.randint(0,5))"
   ]
  },
  {
   "cell_type": "code",
   "execution_count": 7,
   "metadata": {},
   "outputs": [
    {
     "name": "stdout",
     "output_type": "stream",
     "text": [
      "0\n",
      "1\n",
      "4\n",
      "2\n",
      "3\n"
     ]
    }
   ],
   "source": [
    "some_list = [1, 2, 3, 4, 5, 1, 7]\n",
    "while True:\n",
    "    a = np.random.randint(0, 5)\n",
    "    print(a)\n",
    "\n",
    "    if a == 3:\n",
    "        break\n"
   ]
  },
  {
   "cell_type": "code",
   "execution_count": 8,
   "metadata": {},
   "outputs": [],
   "source": [
    "def hello(some_string):\n",
    "    if len(some_string) == 1:\n",
    "        return -1\n",
    "    else:\n",
    "        return some_string\n",
    "\n",
    "    "
   ]
  },
  {
   "cell_type": "code",
   "execution_count": 9,
   "metadata": {},
   "outputs": [
    {
     "data": {
      "text/plain": [
       "-1"
      ]
     },
     "execution_count": 9,
     "metadata": {},
     "output_type": "execute_result"
    }
   ],
   "source": [
    "hello('a')"
   ]
  },
  {
   "cell_type": "code",
   "execution_count": 10,
   "metadata": {},
   "outputs": [],
   "source": [
    "class Faces(object):\n",
    "\n",
    "    def __init__(self, a, b, c):\n",
    "        self.a = a\n",
    "        self.b = b\n",
    "        self.c = c\n",
    "        self.storage = {}\n",
    "\n",
    "    def __setitem__(self, key, value):\n",
    "        self.storage[key] = value\n",
    "\n",
    "    def __getitem__(self, key):\n",
    "        if key == 0:\n",
    "            return self.a\n",
    "        elif key == 1:\n",
    "            return self.b\n",
    "        elif key == 2:\n",
    "            return self.c\n",
    "        else:\n",
    "            return None"
   ]
  },
  {
   "cell_type": "code",
   "execution_count": 11,
   "metadata": {},
   "outputs": [
    {
     "name": "stdout",
     "output_type": "stream",
     "text": [
      "[[0.       0.421955 0.591201 0.557806 0.      ]\n",
      " [0.421955 0.       0.294093 0.899176 0.764728]\n",
      " [0.591201 0.294093 0.       0.145223 0.70348 ]\n",
      " [0.557806 0.899176 0.145223 0.       0.752389]\n",
      " [0.       0.764728 0.70348  0.752389 0.      ]]\n"
     ]
    }
   ],
   "source": [
    "lx = np.zeros((5,5))\n",
    "lx[0, 1] = lx[1, 0] = 0.421955\n",
    "lx[0, 2] = lx[2, 0] = 0.591201\n",
    "lx[0, 3] = lx[3, 0] = 0.557806\n",
    "lx[1, 2] = lx[2, 1] = 0.294093\n",
    "lx[1, 3] = lx[3, 1] = 0.899176\n",
    "lx[1, 4] = lx[4, 1] = 0.764728\n",
    "lx[2, 3] = lx[3, 2] = 0.145223\n",
    "lx[2, 4] = lx[4, 2] = 0.70348\n",
    "lx[3, 4] = lx[4, 3] = 0.752389\n",
    "print(lx)"
   ]
  },
  {
   "cell_type": "code",
   "execution_count": 12,
   "metadata": {},
   "outputs": [],
   "source": [
    " file_path = '/Users/ruslanpepa/PycharmProjects/Octahedron/tet_octahed.txt'\n",
    " list_faces = []  # список, который будет содержать все грани\n",
    " with open(file_path) as fl_wth_fs:  # выгрузим из файла все номера вершин\n",
    "    lines = fl_wth_fs.readlines()\n",
    "for line in lines:  # все номера вершин загоним в списко файлов\n",
    "    ns_vx = line.rstrip('\\n').split('\\t')  # получили только числа из каждой строки\n",
    "    a = int(ns_vx[0])\n",
    "    b = int(ns_vx[1])\n",
    "    c = int(ns_vx[2])\n",
    "    list_faces.append(Faces(a, b, c))"
   ]
  },
  {
   "cell_type": "code",
   "execution_count": 13,
   "metadata": {},
   "outputs": [
    {
     "name": "stdout",
     "output_type": "stream",
     "text": [
      "0 \t 1 \t 2\n",
      "0 \t 2 \t 3\n",
      "0 \t 1 \t 3\n",
      "4 \t 2 \t 3\n",
      "4 \t 1 \t 2\n",
      "4 \t 1 \t 3\n"
     ]
    }
   ],
   "source": [
    "lst_fscs = []\n",
    "for lfs in list_faces:\n",
    "    lst_fscs.append([lfs[0], lfs[1], lfs[2]])\n",
    "    print(lfs[0], '\\t',  lfs[1],'\\t', lfs[2])"
   ]
  },
  {
   "cell_type": "code",
   "execution_count": 29,
   "metadata": {},
   "outputs": [
    {
     "name": "stdout",
     "output_type": "stream",
     "text": [
      "0\n",
      "cos_a:  0.9386794822661616\n",
      "cos_b:  0.8900829536681429\n",
      "cos_c:  -0.6783473644017921\n",
      "1\n",
      "cos_a:  -0.10666687289698146\n",
      "cos_b:  0.3462822655969349\n",
      "cos_c:  0.9697150094176402\n",
      "2\n",
      "cos_a:  0.9386794822661616\n",
      "cos_b:  0.8900829536681429\n",
      "cos_c:  -0.6783473644017921\n",
      "3\n",
      "cos_a:  0.42234705878063006\n",
      "cos_b:  -0.245275318713964\n",
      "cos_c:  0.9823370857489914\n",
      "4\n",
      "cos_a:  -0.00829942266154545\n",
      "cos_b:  0.3922067425986025\n",
      "cos_c:  0.9231005038507836\n",
      "5\n",
      "cos_a:  0.583712192244779\n",
      "cos_b:  0.6015176211530673\n",
      "cos_c:  0.29752932523212\n"
     ]
    }
   ],
   "source": [
    "number_fasec = 0\n",
    "for lfs in list_faces:\n",
    "    a = lx[lfs[0], lfs[1]]\n",
    "    b = lx[lfs[0], lfs[2]]\n",
    "    c = lx[lfs[1], lfs[2]]\n",
    "    cos_c = (a**2 + b**2 - c**2)/(2.*a*b)\n",
    "    cos_a = (c**2 + b**2 - a**2)/(2.*c*b)\n",
    "    cos_b = (a**2 + c**2 - b**2)/(2.*a*c)\n",
    "    print(number_fasec)\n",
    "    print(\"cos_a: \", cos_a)\n",
    "    print('cos_b: ', cos_b)\n",
    "    print('cos_c: ', cos_c)\n",
    "    number_fasec+=1\n",
    "\n",
    "    "
   ]
  },
  {
   "cell_type": "code",
   "execution_count": 37,
   "metadata": {},
   "outputs": [
    {
     "name": "stdout",
     "output_type": "stream",
     "text": [
      "0 \t 1 \t 3\n",
      "0 \t 2 \t 3\n",
      "0 \t 1 \t 3\n",
      "4 \t 2 \t 3\n",
      "4 \t 1 \t 2\n",
      "4 \t 1 \t 3\n"
     ]
    },
    {
     "data": {
      "text/plain": [
       "[[0, 1, 3], [0, 2, 3], [0, 1, 3], [2, 3, 4], [1, 2, 4], [1, 3, 4]]"
      ]
     },
     "execution_count": 37,
     "metadata": {},
     "output_type": "execute_result"
    }
   ],
   "source": [
    "lst_fscs = []\n",
    "for lfs in list_faces:\n",
    "    lst_fscs.append(sorted([lfs[0], lfs[1], lfs[2]]))\n",
    "    print(lfs[0], '\\t',  lfs[1],'\\t', lfs[2])\n",
    "lst_fscs"
   ]
  },
  {
   "cell_type": "code",
   "execution_count": 40,
   "metadata": {},
   "outputs": [
    {
     "name": "stdout",
     "output_type": "stream",
     "text": [
      "0.007476659656614683\n",
      "0.001621838212453315\n",
      "0.007476659656614683\n",
      "0.002452269857224346\n",
      "0.010699980302500424\n",
      "0.07543697212276308\n"
     ]
    }
   ],
   "source": [
    "for fs in list_faces:\n",
    "    a = lx[fs[0], fs[1]]\n",
    "    b = lx[fs[0], fs[2]]\n",
    "    c = lx[fs[1], fs[2]]\n",
    "    half_perim = (a + b + c)/2.\n",
    "    klmng = half_perim*(half_perim - a)*(half_perim - b)*(half_perim - c)\n",
    "    print(klmng)\n"
   ]
  },
  {
   "cell_type": "code",
   "execution_count": 1,
   "metadata": {},
   "outputs": [],
   "source": [
    "class Faces(object):\n",
    "\n",
    "    def __init__(self, a, b, c):\n",
    "        self.a = a\n",
    "        self.b = b\n",
    "        self.c = c\n",
    "        self.storage = {}\n",
    "\n",
    "    def __setitem__(self, key, value):\n",
    "        self.storage[key] = value\n",
    "\n",
    "    def __getitem__(self, key):\n",
    "        if key == 0:\n",
    "            return self.a\n",
    "        elif key == 1:\n",
    "            return self.b\n",
    "        elif key == 2:\n",
    "            return self.c\n",
    "        else:\n",
    "            return None\n"
   ]
  },
  {
   "cell_type": "code",
   "execution_count": 14,
   "metadata": {},
   "outputs": [],
   "source": [
    "list_of_list_of_faces = []\n",
    "list_of_list_of_faces.append(list_faces)"
   ]
  },
  {
   "cell_type": "code",
   "execution_count": 15,
   "metadata": {},
   "outputs": [
    {
     "name": "stdout",
     "output_type": "stream",
     "text": [
      "0\n"
     ]
    }
   ],
   "source": [
    "print(list_of_list_of_faces[0][1][0])"
   ]
  },
  {
   "cell_type": "code",
   "execution_count": 16,
   "metadata": {},
   "outputs": [],
   "source": [
    "jas = list_of_list_of_faces[0]"
   ]
  },
  {
   "cell_type": "code",
   "execution_count": 17,
   "metadata": {},
   "outputs": [
    {
     "data": {
      "text/plain": [
       "3"
      ]
     },
     "execution_count": 17,
     "metadata": {},
     "output_type": "execute_result"
    }
   ],
   "source": [
    "jas[1][2]"
   ]
  },
  {
   "cell_type": "code",
   "execution_count": null,
   "metadata": {},
   "outputs": [],
   "source": []
  }
 ],
 "metadata": {
  "kernelspec": {
   "display_name": "Python 3.8.8 ('base')",
   "language": "python",
   "name": "python3"
  },
  "language_info": {
   "codemirror_mode": {
    "name": "ipython",
    "version": 3
   },
   "file_extension": ".py",
   "mimetype": "text/x-python",
   "name": "python",
   "nbconvert_exporter": "python",
   "pygments_lexer": "ipython3",
   "version": "3.8.8"
  },
  "orig_nbformat": 4,
  "vscode": {
   "interpreter": {
    "hash": "40d3a090f54c6569ab1632332b64b2c03c39dcf918b08424e98f38b5ae0af88f"
   }
  }
 },
 "nbformat": 4,
 "nbformat_minor": 2
}
